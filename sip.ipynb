{
 "cells": [
  {
   "cell_type": "code",
   "execution_count": 1,
   "metadata": {},
   "outputs": [
    {
     "name": "stdout",
     "output_type": "stream",
     "text": [
      "APIYYcdFquiVUn7\n"
     ]
    }
   ],
   "source": [
    "#1)importing the necessary libraries.\n",
    "\n",
    "from livekit import api\n",
    "from livekit.protocol.sip import CreateSIPOutboundTrunkRequest, SIPOutboundTrunkInfo, CreateSIPParticipantRequest,ListSIPTrunkRequest,ListSIPOutboundTrunkRequest,DeleteSIPTrunkRequest\n",
    "from dotenv import load_dotenv\n",
    "import logging\n",
    "import os\n",
    "logging.basicConfig(level=logging.DEBUG)\n",
    "_logger = logging.getLogger(__name__)\n",
    "\n",
    "if load_dotenv(\".env.local\",override=True):\n",
    "    _logger.info(\"Env loaded\")\n",
    "    \n",
    "livekit_api_key = os.getenv(\"LIVEKIT_API_KEY\")\n",
    "print(livekit_api_key)\n",
    "\n",
    "# #print livekit-protocol version\n",
    "# print(livekit.protocol.__version__)\n",
    "# #print livekit version\n",
    "# print(livekit.__version__)\n",
    "    \n",
    "\n"
   ]
  },
  {
   "cell_type": "code",
   "execution_count": 2,
   "metadata": {},
   "outputs": [],
   "source": [
    "#2)setting up the livekit api. It sets up a livekit session to interact with the livekit server.\n",
    "\n",
    "livekit_api = api.LiveKitAPI()"
   ]
  },
  {
   "cell_type": "code",
   "execution_count": 5,
   "metadata": {},
   "outputs": [
    {
     "ename": "AttributeError",
     "evalue": "'SipService' object has no attribute 'list_sip_trunk'",
     "output_type": "error",
     "traceback": [
      "\u001b[31m---------------------------------------------------------------------------\u001b[39m",
      "\u001b[31mAttributeError\u001b[39m                            Traceback (most recent call last)",
      "\u001b[36mCell\u001b[39m\u001b[36m \u001b[39m\u001b[32mIn[5]\u001b[39m\u001b[32m, line 2\u001b[39m\n\u001b[32m      1\u001b[39m list_sip_request = ListSIPOutboundTrunkRequest()\n\u001b[32m----> \u001b[39m\u001b[32m2\u001b[39m results = \u001b[38;5;28;01mawait\u001b[39;00m \u001b[43mlivekit_api\u001b[49m\u001b[43m.\u001b[49m\u001b[43msip\u001b[49m\u001b[43m.\u001b[49m\u001b[43mlist_sip_trunk\u001b[49m(list_sip_request)\n\u001b[32m      4\u001b[39m results\n",
      "\u001b[31mAttributeError\u001b[39m: 'SipService' object has no attribute 'list_sip_trunk'"
     ]
    }
   ],
   "source": [
    "list_sip_request = ListSIPOutboundTrunkRequest()\n",
    "results = await livekit_api.sip.list_sip_trunk(list_sip_request)\n",
    "\n",
    "results\n"
   ]
  },
  {
   "cell_type": "code",
   "execution_count": 1,
   "metadata": {},
   "outputs": [],
   "source": [
    "#delete_sip_request = DeleteSIPTrunkRequest(sip_trunk_id=\"ST_ymj59asdfR583do\")\n",
    "#result = await livekit_api.sip.delete_sip_trunk(delete_sip_request)"
   ]
  },
  {
   "cell_type": "code",
   "execution_count": 3,
   "metadata": {},
   "outputs": [],
   "source": [
    "#3) function for creating a sip outbound trunk. This is a one time setup, done once per trunk\n",
    "\n",
    "async def setup_sip_livekit():\n",
    "    _logger.info(\"Initializing sip\")\n",
    "    livekit_api = api.LiveKitAPI()\n",
    "    _logger.info(\"Initialized internal object %s\", livekit_api)\n",
    "    trunk = SIPOutboundTrunkInfo(\n",
    "        name=\"demo123\",\n",
    "        address=\"21357007325342402.zt.plivo.com\",\n",
    "        numbers=[\"+918035737670\"],\n",
    "        auth_username=\"demo123\",\n",
    "        auth_password=\"Demo123!\")\n",
    "    _logger.info(\"Created Outbound Info %s\",trunk)\n",
    "    request=CreateSIPOutboundTrunkRequest(trunk=trunk)\n",
    "    _logger.info(\"Created the outbound rewquest %s\",request)\n",
    "    trunk = await livekit_api.sip.create_sip_outbound_trunk(request)\n",
    "    _logger.info(\"Sent the request and received %s\",trunk)\n",
    "    await livekit_api.aclose()"
   ]
  },
  {
   "cell_type": "code",
   "execution_count": 4,
   "metadata": {},
   "outputs": [
    {
     "name": "stderr",
     "output_type": "stream",
     "text": [
      "INFO:__main__:Initializing sip\n",
      "INFO:__main__:Initialized internal object <livekit.api.livekit_api.LiveKitAPI object at 0x0000018CB5DAC6E0>\n",
      "INFO:__main__:Created Outbound Info name: \"demo123\"\n",
      "address: \"21357007325342402.zt.plivo.com\"\n",
      "numbers: \"+918035737670\"\n",
      "auth_username: \"demo123\"\n",
      "auth_password: \"Demo123!\"\n",
      "\n",
      "INFO:__main__:Created the outbound rewquest trunk {\n",
      "  name: \"demo123\"\n",
      "  address: \"21357007325342402.zt.plivo.com\"\n",
      "  numbers: \"+918035737670\"\n",
      "  auth_username: \"demo123\"\n",
      "  auth_password: \"Demo123!\"\n",
      "}\n",
      "\n",
      "INFO:__main__:Sent the request and received sip_trunk_id: \"ST_tiTL4Teb7TcV\"\n",
      "name: \"demo123\"\n",
      "address: \"21357007325342402.zt.plivo.com\"\n",
      "numbers: \"+918035737670\"\n",
      "auth_username: \"demo123\"\n",
      "auth_password: \"Demo123!\"\n",
      "\n"
     ]
    }
   ],
   "source": [
    "#4) calling the setup_sip_livekit function to create a sip outbound trunk\n",
    "await setup_sip_livekit()"
   ]
  },
  {
   "cell_type": "code",
   "execution_count": 35,
   "metadata": {},
   "outputs": [],
   "source": [
    "async def call():\n",
    "    _logger.info(\"Setting up\")\n",
    "    request = CreateSIPParticipantRequest(krisp_enabled=True,sip_trunk_id=\"ST_tiTL4Teb7TcV\",sip_call_to=\"+917989409481\",room_name=\"agent05_callid123481user-6d2c-41ba-8901-847006d04588\",participant_identity=\"MobileUser\",participant_name=\"jayanth\")\n",
    "    _logger.info(\"Participant Request %s\",request)\n",
    "    participant = await livekit_api.sip.create_sip_participant(request)\n",
    "    _logger.info(\"Participant Received %s\",participant)\n",
    "    # await livekit_api.aclose()"
   ]
  },
  {
   "cell_type": "code",
   "execution_count": 36,
   "metadata": {},
   "outputs": [
    {
     "name": "stderr",
     "output_type": "stream",
     "text": [
      "INFO:__main__:Setting up\n",
      "INFO:__main__:Participant Request sip_trunk_id: \"ST_tiTL4Teb7TcV\"\n",
      "sip_call_to: \"+917989409481\"\n",
      "room_name: \"agent05_callid123481user-6d2c-41ba-8901-847006d04588\"\n",
      "participant_identity: \"MobileUser\"\n",
      "participant_name: \"jayanth\"\n",
      "krisp_enabled: true\n",
      "\n",
      "INFO:__main__:Participant Received participant_id: \"PA_SgFeCASYVALi\"\n",
      "participant_identity: \"MobileUser\"\n",
      "room_name: \"agent05_callid123481user-6d2c-41ba-8901-847006d04588\"\n",
      "sip_call_id: \"SCL_6rExaVjZnFL7\"\n",
      "\n"
     ]
    }
   ],
   "source": [
    "await call()"
   ]
  },
  {
   "cell_type": "code",
   "execution_count": null,
   "metadata": {},
   "outputs": [],
   "source": []
  }
 ],
 "metadata": {
  "kernelspec": {
   "display_name": "venv",
   "language": "python",
   "name": "python3"
  },
  "language_info": {
   "codemirror_mode": {
    "name": "ipython",
    "version": 3
   },
   "file_extension": ".py",
   "mimetype": "text/x-python",
   "name": "python",
   "nbconvert_exporter": "python",
   "pygments_lexer": "ipython3",
   "version": "3.12.0"
  }
 },
 "nbformat": 4,
 "nbformat_minor": 2
}
